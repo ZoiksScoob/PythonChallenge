{
 "cells": [
  {
   "cell_type": "markdown",
   "metadata": {},
   "source": [
    "# Python Challenge\n",
    "\n",
    "Based on the challenge that is this website\n",
    "http://www.pythonchallenge.com"
   ]
  },
  {
   "cell_type": "markdown",
   "metadata": {},
   "source": [
    "### Puzzle Number 0\n",
    "http://www.pythonchallenge.com/pc/def/0.html"
   ]
  },
  {
   "cell_type": "code",
   "execution_count": 69,
   "metadata": {},
   "outputs": [
    {
     "data": {
      "text/plain": [
       "274877906944"
      ]
     },
     "execution_count": 69,
     "metadata": {},
     "output_type": "execute_result"
    }
   ],
   "source": [
    "2 ** 38"
   ]
  },
  {
   "cell_type": "markdown",
   "metadata": {},
   "source": [
    "### Puzzle Number 1\n",
    "http://www.pythonchallenge.com/pc/def/map.html\n",
    "\n",
    "This is a ceasar cypher, so simply need to shift back 2"
   ]
  },
  {
   "cell_type": "code",
   "execution_count": 68,
   "metadata": {},
   "outputs": [
    {
     "data": {
      "text/plain": [
       "\"i hope you didnt translate it by hand. thats what computers are for. doing it in by hand is inefficient and that's why this text is so long. using string.maketrans() is recommended. now apply on the url.\""
      ]
     },
     "execution_count": 68,
     "metadata": {},
     "output_type": "execute_result"
    }
   ],
   "source": [
    "import string\n",
    "from functools import partial\n",
    "\n",
    "\n",
    "message = \"\"\"g fmnc wms bgblr rpylqjyrc gr zw fylb. rfyrq ufyr amknsrcpq ypc dmp. bmgle gr gl zw fylb gq glcddgagclr ylb rfyr'q ufw rfgq rcvr gq qm jmle. sqgle qrpgle.kyicrpylq() gq pcamkkclbcb. lmu ynnjw ml rfc spj.\"\"\"\n",
    "\n",
    "\n",
    "def map_letter(letter, shift):\n",
    "    assert isinstance(letter, str) and len(letter) == 1\n",
    "    try:\n",
    "        index = (string.ascii_lowercase.index(letter.lower()) + shift) % 26\n",
    "        return string.ascii_lowercase[index]\n",
    "    except ValueError:\n",
    "        return letter\n",
    "    except IndexError as e:\n",
    "        print(letter, index)\n",
    "        raise e\n",
    "\n",
    "def map_message(message, shift):\n",
    "    map_letter_n = partial(map_letter, shift=shift)\n",
    "    return ''.join(map(map_letter_n, message))\n",
    "\n",
    "map_message(message, 2)"
   ]
  },
  {
   "cell_type": "code",
   "execution_count": 3,
   "metadata": {},
   "outputs": [
    {
     "name": "stdout",
     "output_type": "stream",
     "text": [
      "abcdefghijklmnopqrstuvwxyz\n",
      "cdefghijklmnopqrstuvwxyzab\n",
      "ocr\n"
     ]
    }
   ],
   "source": [
    "# A neater solution on the challenge name to get the next one\n",
    "\n",
    "import string\n",
    "\n",
    "message = 'map'\n",
    "\n",
    "intab = string.ascii_lowercase\n",
    "\n",
    "n = 2\n",
    "outab = intab[n:] + intab[:n]\n",
    "\n",
    "trans = str.maketrans(intab, outab)\n",
    "\n",
    "print(message.translate(trans))"
   ]
  },
  {
   "cell_type": "markdown",
   "metadata": {},
   "source": [
    "### Puzzle Number 2\n",
    "http://www.pythonchallenge.com/pc/def/ocr.html\n",
    "\n",
    "Just a simple counting exercise."
   ]
  },
  {
   "cell_type": "code",
   "execution_count": 4,
   "metadata": {},
   "outputs": [
    {
     "data": {
      "text/plain": [
       "Counter({'\\n': 1221,\n",
       "         '%': 6104,\n",
       "         '$': 6046,\n",
       "         '@': 6157,\n",
       "         '_': 6112,\n",
       "         '^': 6030,\n",
       "         '#': 6115,\n",
       "         ')': 6186,\n",
       "         '&': 6043,\n",
       "         '!': 6079,\n",
       "         '+': 6066,\n",
       "         ']': 6152,\n",
       "         '*': 6034,\n",
       "         '}': 6105,\n",
       "         '[': 6108,\n",
       "         '(': 6154,\n",
       "         '{': 6046,\n",
       "         'e': 1,\n",
       "         'q': 1,\n",
       "         'u': 1,\n",
       "         'a': 1,\n",
       "         'l': 1,\n",
       "         'i': 1,\n",
       "         't': 1,\n",
       "         'y': 1})"
      ]
     },
     "execution_count": 4,
     "metadata": {},
     "output_type": "execute_result"
    }
   ],
   "source": [
    "import requests\n",
    "from html.parser import HTMLParser\n",
    "from collections import Counter\n",
    "\n",
    "class MyHTMLParser(HTMLParser):\n",
    "    comments = []\n",
    "    \n",
    "    def handle_comment(self, data):\n",
    "        if not hasattr(self, '_comments'):\n",
    "            setattr(self, '_comments', [])\n",
    "        self._comments.append(data)\n",
    "        \n",
    "\n",
    "def get_page_comments(url):\n",
    "    r = requests.get(url)\n",
    "    page_source = r.content.decode()\n",
    "\n",
    "    parser = MyHTMLParser()\n",
    "    parser.feed(page_source)\n",
    "    return parser._comments\n",
    "\n",
    "        \n",
    "url = 'http://www.pythonchallenge.com/pc/def/ocr.html'\n",
    "\n",
    "comments = get_page_comments(url)\n",
    "\n",
    "comment = comments[1]\n",
    "\n",
    "Counter(comment)\n",
    "\n",
    "#''.join(key for key, val in Counter(comment).items() if val < 100)"
   ]
  },
  {
   "cell_type": "markdown",
   "metadata": {},
   "source": [
    "### Number 3\n",
    "http://www.pythonchallenge.com/pc/def/equality.html\n",
    "\n",
    "Th clue is \"one small letter\", lowercase, in between EXACTLY 3 big letters, uppercase.\n",
    "For example, AAAbCCC"
   ]
  },
  {
   "cell_type": "code",
   "execution_count": 30,
   "metadata": {},
   "outputs": [
    {
     "data": {
      "text/plain": [
       "'linkedlist'"
      ]
     },
     "execution_count": 30,
     "metadata": {},
     "output_type": "execute_result"
    }
   ],
   "source": [
    "import re\n",
    "\n",
    "url = 'http://www.pythonchallenge.com/pc/def/equality.html'\n",
    "\n",
    "comments = get_page_comments(url)\n",
    "\n",
    "comment = comments[0].replace(\"\\n\", \"\")\n",
    "\n",
    "pattern = \"[^A-Z]+[A-Z]{3}([a-z])[A-Z]{3}[^A-Z]+\"\n",
    "\n",
    "result = re.findall(pattern, comment)\n",
    "\n",
    "''.join(result)"
   ]
  },
  {
   "cell_type": "markdown",
   "metadata": {},
   "source": [
    "### Puzzle Number 4\n",
    "http://www.pythonchallenge.com/pc/def/linkedlist.php"
   ]
  },
  {
   "cell_type": "code",
   "execution_count": 61,
   "metadata": {},
   "outputs": [
    {
     "name": "stdout",
     "output_type": "stream",
     "text": [
      "latest content: peak.html\n",
      "[]\n",
      "66831\n"
     ]
    },
    {
     "data": {
      "text/plain": [
       "'66831'"
      ]
     },
     "execution_count": 61,
     "metadata": {},
     "output_type": "execute_result"
    }
   ],
   "source": [
    "import requests\n",
    "import re\n",
    "\n",
    "# Looking at the page source to get the instructions\n",
    "\n",
    "url = 'http://www.pythonchallenge.com/pc/def/linkedlist.php'\n",
    "\n",
    "# Finally define a function to get the page info, where the details of the puzzle are\n",
    "\n",
    "def read_puzzle(puzzle, decode=True):\n",
    "    url = 'http://www.pythonchallenge.com/pc/' + puzzle\n",
    "    r = requests.get(url)\n",
    "    \n",
    "    page_source = r.content\n",
    "    \n",
    "    if decode:\n",
    "        page_source = page_source.decode()\n",
    "        \n",
    "    return page_source\n",
    "\n",
    "\n",
    "# print(read_puzzle('def/linkedlist.php'))\n",
    "\n",
    "\n",
    "# Need to follow the links, taking note of the hint of 400 times is enough, so\n",
    "\n",
    "def search_through_nothing_linked_list(a_nothing, n=400):\n",
    "    a_nothing = str(a_nothing)\n",
    "    \n",
    "    nothing_pattern = '(\\d+)'\n",
    "    \n",
    "    base_url = url + '?nothing=' \n",
    "    \n",
    "    for _ in range(n):\n",
    "        new_url = base_url + a_nothing\n",
    "\n",
    "        r = requests.get(new_url)\n",
    "\n",
    "        content = r.content.decode()\n",
    "\n",
    "        result = re.findall(nothing_pattern, content)\n",
    "\n",
    "        try:\n",
    "            # Cominbing the little oddities so a single function call traverses all of the results.\n",
    "            \n",
    "            if len(result) == 1:\n",
    "                a_nothing = result[0]\n",
    "            elif not result and int(a_nothing) == 16044:\n",
    "                a_nothing = int(a_nothing) / 2\n",
    "            else:\n",
    "                a_nothing = result[-1]\n",
    "        \n",
    "        except IndexError:\n",
    "            print('latest content:', content)\n",
    "            print('last nothing:', a_nothing)\n",
    "            print(result)\n",
    "            break\n",
    "        \n",
    "    return a_nothing\n",
    "\n",
    "\n",
    "search_through_nothing_linked_list(12345)"
   ]
  },
  {
   "cell_type": "markdown",
   "metadata": {},
   "source": [
    "### Number 5\n",
    "http://www.pythonchallenge.com/pc/def/peak.html\n",
    "\n",
    "After a lot of puzzling over \"peak hell\" and looking around, the package \"pickle\" became obvious. So, load something?"
   ]
  },
  {
   "cell_type": "code",
   "execution_count": 72,
   "metadata": {},
   "outputs": [
    {
     "name": "stdout",
     "output_type": "stream",
     "text": [
      "<html>\n",
      "<head>\n",
      "  <title>peak hell</title>\n",
      "  <link rel=\"stylesheet\" type=\"text/css\" href=\"../style.css\">\n",
      "</head>\n",
      "<body>\n",
      "<center>\n",
      "<img src=\"peakhell.jpg\"/>\n",
      "<br><font color=\"#c0c0ff\">\n",
      "pronounce it\n",
      "<br>\n",
      "<peakhell src=\"banner.p\"/>\n",
      "</body>\n",
      "</html>\n",
      "\n",
      "<!-- peak hell sounds familiar ? -->\n",
      "\n",
      "[[(' ', 95)], [(' ', 14), ('#', 5), (' ', 70), ('#', 5), (' ', 1)], [(' ', 15), ('#', 4), (' ', 71), ('#', 4), (' ', 1)], [(' ', 15), ('#', 4), (' ', 71), ('#', 4), (' ', 1)], [(' ', 15), ('#', 4), (' ', 71), ('#', 4), (' ', 1)]]\n",
      "                                                                                               \n",
      "              #####                                                                      ##### \n",
      "               ####                                                                       #### \n",
      "               ####                                                                       #### \n",
      "               ####                                                                       #### \n",
      "               ####                                                                       #### \n",
      "               ####                                                                       #### \n",
      "               ####                                                                       #### \n",
      "               ####                                                                       #### \n",
      "      ###      ####   ###         ###       #####   ###    #####   ###          ###       #### \n",
      "   ###   ##    #### #######     ##  ###      #### #######   #### #######     ###  ###     #### \n",
      "  ###     ###  #####    ####   ###   ####    #####    ####  #####    ####   ###     ###   #### \n",
      " ###           ####     ####   ###    ###    ####     ####  ####     ####  ###      ####  #### \n",
      " ###           ####     ####          ###    ####     ####  ####     ####  ###       ###  #### \n",
      "####           ####     ####     ##   ###    ####     ####  ####     #### ####       ###  #### \n",
      "####           ####     ####   ##########    ####     ####  ####     #### ##############  #### \n",
      "####           ####     ####  ###    ####    ####     ####  ####     #### ####            #### \n",
      "####           ####     #### ####     ###    ####     ####  ####     #### ####            #### \n",
      " ###           ####     #### ####     ###    ####     ####  ####     ####  ###            #### \n",
      "  ###      ##  ####     ####  ###    ####    ####     ####  ####     ####   ###      ##   #### \n",
      "   ###    ##   ####     ####   ###########   ####     ####  ####     ####    ###    ##    #### \n",
      "      ###     ######    #####    ##    #### ######    ###########    #####      ###      ######\n",
      "                                                                                               \n"
     ]
    }
   ],
   "source": [
    "import requests\n",
    "import pickle\n",
    "\n",
    "url = 'http://www.pythonchallenge.com/pc/def/peak.html'\n",
    "\n",
    "# First read the instructions\n",
    "print(read_puzzle('def/peak.html'))\n",
    "\n",
    "# banner.p looks to be a potential source of data, it's the only thing here\n",
    "puzzle = read_puzzle('def/banner.p', decode=False)\n",
    "\n",
    "some_data = pickle.loads(puzzle)\n",
    "\n",
    "# Looking at some of the data, looks like a picture made of a single type of character in a compact format, \n",
    "# so reconstruct and print?\n",
    "\n",
    "print(some_data[:5])\n",
    "\n",
    "# Let's first try them as rows\n",
    "\n",
    "for item in some_data:\n",
    "    print_me = ''\n",
    "    \n",
    "    for (char, num) in item:\n",
    "        print_me += char * num\n",
    "        \n",
    "    print(print_me)"
   ]
  },
  {
   "cell_type": "markdown",
   "metadata": {},
   "source": [
    "### Number 6\n",
    "http://www.pythonchallenge.com/pc/def/channel.html\n",
    "\n",
    "So, a zip file, presumably the puzzle is described within"
   ]
  },
  {
   "cell_type": "code",
   "execution_count": 108,
   "metadata": {},
   "outputs": [
    {
     "name": "stdout",
     "output_type": "stream",
     "text": [
      "welcome to my zipped list.\n",
      "\n",
      "hint1: start from 90052\n",
      "hint2: answer is inside the zip\n",
      "\n"
     ]
    }
   ],
   "source": [
    "import zipfile\n",
    "import io\n",
    "\n",
    "# print(read_puzzle('def/channel.html'))\n",
    "\n",
    "zipped_data = read_puzzle('def/channel.zip', decode=False)\n",
    "\n",
    "bytes_io_data = io.BytesIO(zipped_data)\n",
    "\n",
    "unzipped_data = zipfile.ZipFile(bytes_io_data)\n",
    "\n",
    "# There's a readme.txt, let's start there as there are a lot of file\n",
    "content_list = unzipped_data.namelist()\n",
    "# print(len(content_list))\n",
    "content_list\n",
    "\n",
    "def read_file(file_name):\n",
    "    bytes_content = unzipped_data.read(file_name)\n",
    "    return bytes_content.decode()\n",
    "\n",
    "print(read_file('readme.txt'))"
   ]
  },
  {
   "cell_type": "code",
   "execution_count": 110,
   "metadata": {},
   "outputs": [
    {
     "name": "stdout",
     "output_type": "stream",
     "text": [
      "last nothing: 46145\n",
      "last content: Collect the comments.\n"
     ]
    }
   ],
   "source": [
    "# Looking in the first file, we seem to have the same linked list business as before\n",
    "\n",
    "def search_through_nothing_linked_list(zip_files, start_nothing, nothing_pattern = '(\\d+)'):\n",
    "    a_nothing = str(start_nothing)\n",
    "    \n",
    "    nothings = [a_nothing]\n",
    "    \n",
    "    for _ in range(len(zip_files.namelist())):\n",
    "        content = read_file(a_nothing + '.txt')\n",
    "        \n",
    "        result = re.findall(nothing_pattern, content)\n",
    "        \n",
    "        try:\n",
    "            a_nothing = result[0]\n",
    "            nothings.append(a_nothing)\n",
    "        except IndexError:\n",
    "            print('last nothing:', a_nothing)\n",
    "            print('last content:', content)\n",
    "            break\n",
    "    \n",
    "    return nothings\n",
    "\n",
    "nothings = search_through_nothing_linked_list(unzipped_data, 90052)"
   ]
  },
  {
   "cell_type": "code",
   "execution_count": 114,
   "metadata": {},
   "outputs": [
    {
     "name": "stdout",
     "output_type": "stream",
     "text": [
      "****************************************************************\n",
      "****************************************************************\n",
      "**                                                            **\n",
      "**   OO    OO    XX      YYYY    GG    GG  EEEEEE NN      NN  **\n",
      "**   OO    OO  XXXXXX   YYYYYY   GG   GG   EEEEEE  NN    NN   **\n",
      "**   OO    OO XXX  XXX YYY   YY  GG GG     EE       NN  NN    **\n",
      "**   OOOOOOOO XX    XX YY        GGG       EEEEE     NNNN     **\n",
      "**   OOOOOOOO XX    XX YY        GGG       EEEEE      NN      **\n",
      "**   OO    OO XXX  XXX YYY   YY  GG GG     EE         NN      **\n",
      "**   OO    OO  XXXXXX   YYYYYY   GG   GG   EEEEEE     NN      **\n",
      "**   OO    OO    XX      YYYY    GG    GG  EEEEEE     NN      **\n",
      "**                                                            **\n",
      "****************************************************************\n",
      " **************************************************************\n",
      "\n"
     ]
    }
   ],
   "source": [
    "# Something about the comments?\n",
    "# Looking in a few, they're characters. Let's print them out, likely to be the order in which they were traversed\n",
    "# as that would gel witht he puzzle\n",
    "\n",
    "# unzipped_data.getinfo('85503.txt').comment\n",
    "\n",
    "comments = ''.join((unzipped_data.getinfo(nothing + '.txt').comment.decode() for nothing in nothings))\n",
    "\n",
    "print(comments)"
   ]
  },
  {
   "cell_type": "code",
   "execution_count": null,
   "metadata": {},
   "outputs": [],
   "source": []
  }
 ],
 "metadata": {
  "kernelspec": {
   "display_name": "Python 3",
   "language": "python",
   "name": "python3"
  },
  "language_info": {
   "codemirror_mode": {
    "name": "ipython",
    "version": 3
   },
   "file_extension": ".py",
   "mimetype": "text/x-python",
   "name": "python",
   "nbconvert_exporter": "python",
   "pygments_lexer": "ipython3",
   "version": "3.8.3"
  }
 },
 "nbformat": 4,
 "nbformat_minor": 4
}
